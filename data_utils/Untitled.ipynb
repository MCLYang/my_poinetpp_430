{
 "cells": [
  {
   "cell_type": "code",
   "execution_count": 1,
   "metadata": {},
   "outputs": [],
   "source": [
    "import numpy as np\n",
    "import glob\n",
    "import os\n",
    "import sys\n",
    "import pdb"
   ]
  },
  {
   "cell_type": "code",
   "execution_count": 7,
   "metadata": {},
   "outputs": [
    {
     "data": {
      "text/plain": [
       "['/media/malcolm/1E577EB53AA8D6D4/Pointnet_Pointnet2_pytorch-master/data/Stanford3dDataset_v1.2_Aligned_Version/Area_1/conferenceRoom_1/Annotations/beam_1.txt',\n",
       " '/media/malcolm/1E577EB53AA8D6D4/Pointnet_Pointnet2_pytorch-master/data/Stanford3dDataset_v1.2_Aligned_Version/Area_1/conferenceRoom_1/Annotations/board_1.txt',\n",
       " '/media/malcolm/1E577EB53AA8D6D4/Pointnet_Pointnet2_pytorch-master/data/Stanford3dDataset_v1.2_Aligned_Version/Area_1/conferenceRoom_1/Annotations/board_2.txt',\n",
       " '/media/malcolm/1E577EB53AA8D6D4/Pointnet_Pointnet2_pytorch-master/data/Stanford3dDataset_v1.2_Aligned_Version/Area_1/conferenceRoom_1/Annotations/board_3.txt',\n",
       " '/media/malcolm/1E577EB53AA8D6D4/Pointnet_Pointnet2_pytorch-master/data/Stanford3dDataset_v1.2_Aligned_Version/Area_1/conferenceRoom_1/Annotations/bookcase_1.txt',\n",
       " '/media/malcolm/1E577EB53AA8D6D4/Pointnet_Pointnet2_pytorch-master/data/Stanford3dDataset_v1.2_Aligned_Version/Area_1/conferenceRoom_1/Annotations/ceiling_1.txt',\n",
       " '/media/malcolm/1E577EB53AA8D6D4/Pointnet_Pointnet2_pytorch-master/data/Stanford3dDataset_v1.2_Aligned_Version/Area_1/conferenceRoom_1/Annotations/chair_1.txt',\n",
       " '/media/malcolm/1E577EB53AA8D6D4/Pointnet_Pointnet2_pytorch-master/data/Stanford3dDataset_v1.2_Aligned_Version/Area_1/conferenceRoom_1/Annotations/chair_10.txt',\n",
       " '/media/malcolm/1E577EB53AA8D6D4/Pointnet_Pointnet2_pytorch-master/data/Stanford3dDataset_v1.2_Aligned_Version/Area_1/conferenceRoom_1/Annotations/chair_11.txt',\n",
       " '/media/malcolm/1E577EB53AA8D6D4/Pointnet_Pointnet2_pytorch-master/data/Stanford3dDataset_v1.2_Aligned_Version/Area_1/conferenceRoom_1/Annotations/chair_12.txt',\n",
       " '/media/malcolm/1E577EB53AA8D6D4/Pointnet_Pointnet2_pytorch-master/data/Stanford3dDataset_v1.2_Aligned_Version/Area_1/conferenceRoom_1/Annotations/chair_13.txt',\n",
       " '/media/malcolm/1E577EB53AA8D6D4/Pointnet_Pointnet2_pytorch-master/data/Stanford3dDataset_v1.2_Aligned_Version/Area_1/conferenceRoom_1/Annotations/chair_2.txt',\n",
       " '/media/malcolm/1E577EB53AA8D6D4/Pointnet_Pointnet2_pytorch-master/data/Stanford3dDataset_v1.2_Aligned_Version/Area_1/conferenceRoom_1/Annotations/chair_3.txt',\n",
       " '/media/malcolm/1E577EB53AA8D6D4/Pointnet_Pointnet2_pytorch-master/data/Stanford3dDataset_v1.2_Aligned_Version/Area_1/conferenceRoom_1/Annotations/chair_4.txt',\n",
       " '/media/malcolm/1E577EB53AA8D6D4/Pointnet_Pointnet2_pytorch-master/data/Stanford3dDataset_v1.2_Aligned_Version/Area_1/conferenceRoom_1/Annotations/chair_5.txt',\n",
       " '/media/malcolm/1E577EB53AA8D6D4/Pointnet_Pointnet2_pytorch-master/data/Stanford3dDataset_v1.2_Aligned_Version/Area_1/conferenceRoom_1/Annotations/chair_6.txt',\n",
       " '/media/malcolm/1E577EB53AA8D6D4/Pointnet_Pointnet2_pytorch-master/data/Stanford3dDataset_v1.2_Aligned_Version/Area_1/conferenceRoom_1/Annotations/chair_7.txt',\n",
       " '/media/malcolm/1E577EB53AA8D6D4/Pointnet_Pointnet2_pytorch-master/data/Stanford3dDataset_v1.2_Aligned_Version/Area_1/conferenceRoom_1/Annotations/chair_8.txt',\n",
       " '/media/malcolm/1E577EB53AA8D6D4/Pointnet_Pointnet2_pytorch-master/data/Stanford3dDataset_v1.2_Aligned_Version/Area_1/conferenceRoom_1/Annotations/chair_9.txt',\n",
       " '/media/malcolm/1E577EB53AA8D6D4/Pointnet_Pointnet2_pytorch-master/data/Stanford3dDataset_v1.2_Aligned_Version/Area_1/conferenceRoom_1/Annotations/clutter_1.txt',\n",
       " '/media/malcolm/1E577EB53AA8D6D4/Pointnet_Pointnet2_pytorch-master/data/Stanford3dDataset_v1.2_Aligned_Version/Area_1/conferenceRoom_1/Annotations/clutter_2.txt',\n",
       " '/media/malcolm/1E577EB53AA8D6D4/Pointnet_Pointnet2_pytorch-master/data/Stanford3dDataset_v1.2_Aligned_Version/Area_1/conferenceRoom_1/Annotations/clutter_3.txt',\n",
       " '/media/malcolm/1E577EB53AA8D6D4/Pointnet_Pointnet2_pytorch-master/data/Stanford3dDataset_v1.2_Aligned_Version/Area_1/conferenceRoom_1/Annotations/clutter_4.txt',\n",
       " '/media/malcolm/1E577EB53AA8D6D4/Pointnet_Pointnet2_pytorch-master/data/Stanford3dDataset_v1.2_Aligned_Version/Area_1/conferenceRoom_1/Annotations/clutter_5.txt',\n",
       " '/media/malcolm/1E577EB53AA8D6D4/Pointnet_Pointnet2_pytorch-master/data/Stanford3dDataset_v1.2_Aligned_Version/Area_1/conferenceRoom_1/Annotations/clutter_6.txt',\n",
       " '/media/malcolm/1E577EB53AA8D6D4/Pointnet_Pointnet2_pytorch-master/data/Stanford3dDataset_v1.2_Aligned_Version/Area_1/conferenceRoom_1/Annotations/door_1.txt',\n",
       " '/media/malcolm/1E577EB53AA8D6D4/Pointnet_Pointnet2_pytorch-master/data/Stanford3dDataset_v1.2_Aligned_Version/Area_1/conferenceRoom_1/Annotations/floor_1.txt',\n",
       " '/media/malcolm/1E577EB53AA8D6D4/Pointnet_Pointnet2_pytorch-master/data/Stanford3dDataset_v1.2_Aligned_Version/Area_1/conferenceRoom_1/Annotations/table_1.txt',\n",
       " '/media/malcolm/1E577EB53AA8D6D4/Pointnet_Pointnet2_pytorch-master/data/Stanford3dDataset_v1.2_Aligned_Version/Area_1/conferenceRoom_1/Annotations/wall_1.txt',\n",
       " '/media/malcolm/1E577EB53AA8D6D4/Pointnet_Pointnet2_pytorch-master/data/Stanford3dDataset_v1.2_Aligned_Version/Area_1/conferenceRoom_1/Annotations/wall_2.txt',\n",
       " '/media/malcolm/1E577EB53AA8D6D4/Pointnet_Pointnet2_pytorch-master/data/Stanford3dDataset_v1.2_Aligned_Version/Area_1/conferenceRoom_1/Annotations/wall_3.txt',\n",
       " '/media/malcolm/1E577EB53AA8D6D4/Pointnet_Pointnet2_pytorch-master/data/Stanford3dDataset_v1.2_Aligned_Version/Area_1/conferenceRoom_1/Annotations/wall_4.txt']"
      ]
     },
     "execution_count": 7,
     "metadata": {},
     "output_type": "execute_result"
    }
   ],
   "source": [
    "glob.glob('/media/malcolm/1E577EB53AA8D6D4/Pointnet_Pointnet2_pytorch-master/data/Stanford3dDataset_v1.2_Aligned_Version/Area_1/conferenceRoom_1/Annotations/*.txt')"
   ]
  },
  {
   "cell_type": "code",
   "execution_count": 10,
   "metadata": {},
   "outputs": [
    {
     "name": "stdout",
     "output_type": "stream",
     "text": [
      "/media/malcolm/1E577EB53AA8D6D4/Pointnet_Pointnet2_pytorch-master/data/s3dis/Stanford3dDataset_v1.2_Aligned_Version/Area_1/conferenceRoom_1/Annotations/\n"
     ]
    }
   ],
   "source": [
    "print(\"/media/malcolm/1E577EB53AA8D6D4/Pointnet_Pointnet2_pytorch-master/data/s3dis/Stanford3dDataset_v1.2_Aligned_Version/Area_1/conferenceRoom_1/Annotations/\")"
   ]
  },
  {
   "cell_type": "code",
   "execution_count": 11,
   "metadata": {},
   "outputs": [
    {
     "name": "stdout",
     "output_type": "stream",
     "text": [
      "/media/malcolm/1E577EB53AA8D6D4/Pointnet_Pointnet2_pytorch-master/data/Stanford3dDataset_v1.2_Aligned_Version/Area_1/conferenceRoom_1/Annotations/\n"
     ]
    }
   ],
   "source": [
    "print(\"/media/malcolm/1E577EB53AA8D6D4/Pointnet_Pointnet2_pytorch-master/data/Stanford3dDataset_v1.2_Aligned_Version/Area_1/conferenceRoom_1/Annotations/\")"
   ]
  },
  {
   "cell_type": "code",
   "execution_count": null,
   "metadata": {},
   "outputs": [],
   "source": []
  }
 ],
 "metadata": {
  "kernelspec": {
   "display_name": "Python 3",
   "language": "python",
   "name": "python3"
  },
  "language_info": {
   "codemirror_mode": {
    "name": "ipython",
    "version": 3
   },
   "file_extension": ".py",
   "mimetype": "text/x-python",
   "name": "python",
   "nbconvert_exporter": "python",
   "pygments_lexer": "ipython3",
   "version": "3.7.6"
  }
 },
 "nbformat": 4,
 "nbformat_minor": 4
}
